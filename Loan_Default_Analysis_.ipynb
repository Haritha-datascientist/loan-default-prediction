{
  "cells": [
    {
      "cell_type": "markdown",
      "metadata": {
        "id": "s2OA40Z256MZ"
      },
      "source": [
        "# Intel oneAPI Default Risk Modelling Case Study"
      ]
    },
    {
      "cell_type": "markdown",
      "metadata": {
        "id": "VXKS0pke56Mc"
      },
      "source": [
        "#### Importing package from python site packages"
      ]
    },
    {
      "cell_type": "code",
      "execution_count": null,
      "metadata": {
        "id": "vUTxstxv56Md"
      },
      "outputs": [],
      "source": [
        "!pip3 install imbalanced-learn\n",
        "!pip3 install seaborn"
      ]
    },
    {
      "cell_type": "code",
      "execution_count": null,
      "metadata": {
        "id": "l0cKRevv56Me"
      },
      "outputs": [],
      "source": [
        "import pandas as pd\n",
        "import xgboost as xgb\n",
        "from sklearn.linear_model import LogisticRegression\n",
        "from sklearn.ensemble import RandomForestClassifier\n",
        "import numpy as np\n",
        "from sklearn.metrics import roc_auc_score,accuracy_score,precision_score,recall_score,f1_score\n",
        "from sklearn.metrics import confusion_matrix, roc_curve, auc\n",
        "from imblearn.over_sampling import SMOTE\n",
        "from sklearn.model_selection import train_test_split, GridSearchCV\n",
        "import matplotlib.pyplot as plt\n",
        "import seaborn as sns"
      ]
    },
    {
      "cell_type": "markdown",
      "metadata": {
        "id": "CIZJ1kMr56Me"
      },
      "source": [
        "## Step 1: Data Collection from flat file using Pandas read_csv command"
      ]
    },
    {
      "cell_type": "code",
      "execution_count": null,
      "metadata": {
        "id": "A57q7wf356Mf"
      },
      "outputs": [],
      "source": [
        "#data=pd.read_csv(r'Add Your Dataset')\n",
        "data=pd.read_csv(r'train.csv')"
      ]
    },
    {
      "cell_type": "markdown",
      "metadata": {
        "id": "jKxmV0jd56Mf"
      },
      "source": [
        "mydata is now a **DataFrame: Two-dimensional, size-mutable, potentially heterogeneous tabular data.**\n",
        "\n",
        "Data structure also contains labeled axes (rows and columns). Arithmetic operations align on both row and column labels. Can be thought of as a dict-like container for Series objects. The primary pandas data structure.\n",
        "\n",
        "You can also read excel file, json, text file & many more format in pandas just check out the documentation \n",
        "**Explore the data with head command, head give your 5 rows of the dataset**"
      ]
    },
    {
      "cell_type": "code",
      "execution_count": null,
      "metadata": {
        "id": "zU8ycze656Mf",
        "outputId": "3af5d275-fd2b-406a-cf73-33c0a18501c2"
      },
      "outputs": [
        {
          "data": {
            "text/html": [
              "<div>\n",
              "<style scoped>\n",
              "    .dataframe tbody tr th:only-of-type {\n",
              "        vertical-align: middle;\n",
              "    }\n",
              "\n",
              "    .dataframe tbody tr th {\n",
              "        vertical-align: top;\n",
              "    }\n",
              "\n",
              "    .dataframe thead th {\n",
              "        text-align: right;\n",
              "    }\n",
              "</style>\n",
              "<table border=\"1\" class=\"dataframe\">\n",
              "  <thead>\n",
              "    <tr style=\"text-align: right;\">\n",
              "      <th></th>\n",
              "      <th>UniqueID</th>\n",
              "      <th>disbursed_amount</th>\n",
              "      <th>asset_cost</th>\n",
              "      <th>ltv</th>\n",
              "      <th>branch_id</th>\n",
              "      <th>supplier_id</th>\n",
              "      <th>manufacturer_id</th>\n",
              "      <th>Current_pincode_ID</th>\n",
              "      <th>Date.of.Birth</th>\n",
              "      <th>Employment.Type</th>\n",
              "      <th>...</th>\n",
              "      <th>SEC.SANCTIONED.AMOUNT</th>\n",
              "      <th>SEC.DISBURSED.AMOUNT</th>\n",
              "      <th>PRIMARY.INSTAL.AMT</th>\n",
              "      <th>SEC.INSTAL.AMT</th>\n",
              "      <th>NEW.ACCTS.IN.LAST.SIX.MONTHS</th>\n",
              "      <th>DELINQUENT.ACCTS.IN.LAST.SIX.MONTHS</th>\n",
              "      <th>AVERAGE.ACCT.AGE</th>\n",
              "      <th>CREDIT.HISTORY.LENGTH</th>\n",
              "      <th>NO.OF_INQUIRIES</th>\n",
              "      <th>loan_default</th>\n",
              "    </tr>\n",
              "  </thead>\n",
              "  <tbody>\n",
              "    <tr>\n",
              "      <th>0</th>\n",
              "      <td>420825</td>\n",
              "      <td>50578</td>\n",
              "      <td>58400</td>\n",
              "      <td>89.55</td>\n",
              "      <td>67</td>\n",
              "      <td>22807</td>\n",
              "      <td>45</td>\n",
              "      <td>1441</td>\n",
              "      <td>01-01-1984</td>\n",
              "      <td>Salaried</td>\n",
              "      <td>...</td>\n",
              "      <td>0</td>\n",
              "      <td>0</td>\n",
              "      <td>0</td>\n",
              "      <td>0</td>\n",
              "      <td>0</td>\n",
              "      <td>0</td>\n",
              "      <td>0yrs 0mon</td>\n",
              "      <td>0yrs 0mon</td>\n",
              "      <td>0</td>\n",
              "      <td>0</td>\n",
              "    </tr>\n",
              "    <tr>\n",
              "      <th>1</th>\n",
              "      <td>537409</td>\n",
              "      <td>47145</td>\n",
              "      <td>65550</td>\n",
              "      <td>73.23</td>\n",
              "      <td>67</td>\n",
              "      <td>22807</td>\n",
              "      <td>45</td>\n",
              "      <td>1502</td>\n",
              "      <td>31-07-1985</td>\n",
              "      <td>Self employed</td>\n",
              "      <td>...</td>\n",
              "      <td>0</td>\n",
              "      <td>0</td>\n",
              "      <td>1991</td>\n",
              "      <td>0</td>\n",
              "      <td>0</td>\n",
              "      <td>1</td>\n",
              "      <td>1yrs 11mon</td>\n",
              "      <td>1yrs 11mon</td>\n",
              "      <td>0</td>\n",
              "      <td>1</td>\n",
              "    </tr>\n",
              "    <tr>\n",
              "      <th>2</th>\n",
              "      <td>417566</td>\n",
              "      <td>53278</td>\n",
              "      <td>61360</td>\n",
              "      <td>89.63</td>\n",
              "      <td>67</td>\n",
              "      <td>22807</td>\n",
              "      <td>45</td>\n",
              "      <td>1497</td>\n",
              "      <td>24-08-1985</td>\n",
              "      <td>Self employed</td>\n",
              "      <td>...</td>\n",
              "      <td>0</td>\n",
              "      <td>0</td>\n",
              "      <td>0</td>\n",
              "      <td>0</td>\n",
              "      <td>0</td>\n",
              "      <td>0</td>\n",
              "      <td>0yrs 0mon</td>\n",
              "      <td>0yrs 0mon</td>\n",
              "      <td>0</td>\n",
              "      <td>0</td>\n",
              "    </tr>\n",
              "    <tr>\n",
              "      <th>3</th>\n",
              "      <td>624493</td>\n",
              "      <td>57513</td>\n",
              "      <td>66113</td>\n",
              "      <td>88.48</td>\n",
              "      <td>67</td>\n",
              "      <td>22807</td>\n",
              "      <td>45</td>\n",
              "      <td>1501</td>\n",
              "      <td>30-12-1993</td>\n",
              "      <td>Self employed</td>\n",
              "      <td>...</td>\n",
              "      <td>0</td>\n",
              "      <td>0</td>\n",
              "      <td>31</td>\n",
              "      <td>0</td>\n",
              "      <td>0</td>\n",
              "      <td>0</td>\n",
              "      <td>0yrs 8mon</td>\n",
              "      <td>1yrs 3mon</td>\n",
              "      <td>1</td>\n",
              "      <td>1</td>\n",
              "    </tr>\n",
              "    <tr>\n",
              "      <th>4</th>\n",
              "      <td>539055</td>\n",
              "      <td>52378</td>\n",
              "      <td>60300</td>\n",
              "      <td>88.39</td>\n",
              "      <td>67</td>\n",
              "      <td>22807</td>\n",
              "      <td>45</td>\n",
              "      <td>1495</td>\n",
              "      <td>09-12-1977</td>\n",
              "      <td>Self employed</td>\n",
              "      <td>...</td>\n",
              "      <td>0</td>\n",
              "      <td>0</td>\n",
              "      <td>0</td>\n",
              "      <td>0</td>\n",
              "      <td>0</td>\n",
              "      <td>0</td>\n",
              "      <td>0yrs 0mon</td>\n",
              "      <td>0yrs 0mon</td>\n",
              "      <td>1</td>\n",
              "      <td>1</td>\n",
              "    </tr>\n",
              "  </tbody>\n",
              "</table>\n",
              "<p>5 rows × 41 columns</p>\n",
              "</div>"
            ],
            "text/plain": [
              "   UniqueID  disbursed_amount  asset_cost    ltv  branch_id  supplier_id  \\\n",
              "0    420825             50578       58400  89.55         67        22807   \n",
              "1    537409             47145       65550  73.23         67        22807   \n",
              "2    417566             53278       61360  89.63         67        22807   \n",
              "3    624493             57513       66113  88.48         67        22807   \n",
              "4    539055             52378       60300  88.39         67        22807   \n",
              "\n",
              "   manufacturer_id  Current_pincode_ID Date.of.Birth Employment.Type  ...  \\\n",
              "0               45                1441    01-01-1984        Salaried  ...   \n",
              "1               45                1502    31-07-1985   Self employed  ...   \n",
              "2               45                1497    24-08-1985   Self employed  ...   \n",
              "3               45                1501    30-12-1993   Self employed  ...   \n",
              "4               45                1495    09-12-1977   Self employed  ...   \n",
              "\n",
              "  SEC.SANCTIONED.AMOUNT  SEC.DISBURSED.AMOUNT  PRIMARY.INSTAL.AMT  \\\n",
              "0                     0                     0                   0   \n",
              "1                     0                     0                1991   \n",
              "2                     0                     0                   0   \n",
              "3                     0                     0                  31   \n",
              "4                     0                     0                   0   \n",
              "\n",
              "   SEC.INSTAL.AMT  NEW.ACCTS.IN.LAST.SIX.MONTHS  \\\n",
              "0               0                             0   \n",
              "1               0                             0   \n",
              "2               0                             0   \n",
              "3               0                             0   \n",
              "4               0                             0   \n",
              "\n",
              "   DELINQUENT.ACCTS.IN.LAST.SIX.MONTHS  AVERAGE.ACCT.AGE  \\\n",
              "0                                    0         0yrs 0mon   \n",
              "1                                    1        1yrs 11mon   \n",
              "2                                    0         0yrs 0mon   \n",
              "3                                    0         0yrs 8mon   \n",
              "4                                    0         0yrs 0mon   \n",
              "\n",
              "   CREDIT.HISTORY.LENGTH  NO.OF_INQUIRIES  loan_default  \n",
              "0              0yrs 0mon                0             0  \n",
              "1             1yrs 11mon                0             1  \n",
              "2              0yrs 0mon                0             0  \n",
              "3              1yrs 3mon                1             1  \n",
              "4              0yrs 0mon                1             1  \n",
              "\n",
              "[5 rows x 41 columns]"
            ]
          },
          "execution_count": 5,
          "metadata": {},
          "output_type": "execute_result"
        }
      ],
      "source": [
        "data.head()"
      ]
    },
    {
      "cell_type": "markdown",
      "metadata": {
        "id": "V5I_65Gl56Mg"
      },
      "source": [
        "**info()** function Print a concise summary of a DataFrame.\n",
        "\n",
        "This method/function prints information about a DataFrame including the index dtype and column dtypes, non-null values and memory usage."
      ]
    },
    {
      "cell_type": "code",
      "execution_count": null,
      "metadata": {
        "id": "gTHaQLh356Mg"
      },
      "outputs": [],
      "source": [
        "data.info()"
      ]
    },
    {
      "cell_type": "markdown",
      "metadata": {
        "id": "u3lQaEHu56Mg"
      },
      "source": [
        "#### Lets look at all the unique values in the data"
      ]
    },
    {
      "cell_type": "code",
      "execution_count": null,
      "metadata": {
        "id": "mNmQEwyl56Mg",
        "outputId": "8e0557d9-fd8e-4116-8fa4-9882ba2f9faf"
      },
      "outputs": [
        {
          "name": "stdout",
          "output_type": "stream",
          "text": [
            "UniqueID  : distinct_value\n",
            "233154  : No. of unique Items\n",
            "[420825 537409 417566 ... 613658 548084 630213]\n",
            "------------------------------\n",
            "\n",
            "disbursed_amount  : distinct_value\n",
            "24565  : No. of unique Items\n",
            "[50578 47145 53278 ... 61456 51406 34259]\n",
            "------------------------------\n",
            "\n",
            "asset_cost  : distinct_value\n",
            "46252  : No. of unique Items\n",
            "[ 58400  65550  61360 ...  45233  52965 116009]\n",
            "------------------------------\n",
            "\n",
            "ltv  : distinct_value\n",
            "6579  : No. of unique Items\n",
            "[89.55 73.23 89.63 ... 33.32 32.53 33.82]\n",
            "------------------------------\n",
            "\n",
            "branch_id  : distinct_value\n",
            "82  : No. of unique Items\n",
            "[ 67  78  34 130  74  11   5  20  63  48  79   3  42 142  36  16 146 147\n",
            "  65   9   1 152  29  10  70  19   7  85  61  17   8 153  18 162  68  72\n",
            "  64   2 160 251 103 104 120 136  77  13 138 135  73 248  15 165  62  76\n",
            " 105 249 250 255 254  82 158 159 117 202 259 207  35  69  97  43 257 258\n",
            " 260 111  66 261 101  14 121 217  84 100]\n",
            "------------------------------\n",
            "\n",
            "supplier_id  : distinct_value\n",
            "2953  : No. of unique Items\n",
            "[22807 22744 17014 ... 23618 22289 24031]\n",
            "------------------------------\n",
            "\n",
            "manufacturer_id  : distinct_value\n",
            "11  : No. of unique Items\n",
            "[ 45  86  48  51 120  49 145  67 153 156 152]\n",
            "------------------------------\n",
            "\n",
            "Current_pincode_ID  : distinct_value\n",
            "6698  : No. of unique Items\n",
            "[1441 1502 1497 ... 3586  680  693]\n",
            "------------------------------\n",
            "\n",
            "Date.of.Birth  : distinct_value\n",
            "15433  : No. of unique Items\n",
            "['01-01-1984' '31-07-1985' '24-08-1985' ... '24-03-1962' '23-07-1966'\n",
            " '08-12-1962']\n",
            "------------------------------\n",
            "\n",
            "Employment.Type  : distinct_value\n",
            "2  : No. of unique Items\n",
            "['Salaried' 'Self employed' nan]\n",
            "------------------------------\n",
            "\n",
            "DisbursalDate  : distinct_value\n",
            "84  : No. of unique Items\n",
            "['03-08-2018' '26-09-2018' '01-08-2018' '26-10-2018' '19-09-2018'\n",
            " '23-09-2018' '16-09-2018' '05-09-2018' '29-09-2018' '03-09-2018'\n",
            " '30-08-2018' '31-08-2018' '22-10-2018' '18-09-2018' '20-09-2018'\n",
            " '06-09-2018' '11-10-2018' '20-10-2018' '27-08-2018' '08-10-2018'\n",
            " '17-09-2018' '10-09-2018' '18-10-2018' '16-08-2018' '10-10-2018'\n",
            " '23-10-2018' '30-09-2018' '21-09-2018' '12-09-2018' '21-08-2018'\n",
            " '14-08-2018' '17-10-2018' '30-10-2018' '06-08-2018' '04-10-2018'\n",
            " '16-10-2018' '21-10-2018' '15-09-2018' '06-10-2018' '24-10-2018'\n",
            " '28-08-2018' '13-09-2018' '31-10-2018' '07-09-2018' '24-08-2018'\n",
            " '05-10-2018' '14-10-2018' '13-10-2018' '11-08-2018' '28-09-2018'\n",
            " '25-10-2018' '29-10-2018' '10-08-2018' '12-08-2018' '25-08-2018'\n",
            " '26-08-2018' '08-08-2018' '27-10-2018' '18-08-2018' '23-08-2018'\n",
            " '20-08-2018' '22-09-2018' '24-09-2018' '15-10-2018' '28-10-2018'\n",
            " '14-09-2018' '04-09-2018' '13-08-2018' '17-08-2018' '29-08-2018'\n",
            " '27-09-2018' '04-08-2018' '03-10-2018' '08-09-2018' '25-09-2018'\n",
            " '22-08-2018' '09-08-2018' '09-10-2018' '19-10-2018' '07-08-2018'\n",
            " '11-09-2018' '12-10-2018' '05-08-2018' '02-10-2018']\n",
            "------------------------------\n",
            "\n",
            "State_ID  : distinct_value\n",
            "22  : No. of unique Items\n",
            "[ 6  4  3  9  5 10 18 15  1 16 13 14 17  2 11  7 12  8 20 19 22 21]\n",
            "------------------------------\n",
            "\n",
            "Employee_code_ID  : distinct_value\n",
            "3270  : No. of unique Items\n",
            "[1998 1646  115 ... 3198 3705 3479]\n",
            "------------------------------\n",
            "\n",
            "MobileNo_Avl_Flag  : distinct_value\n",
            "1  : No. of unique Items\n",
            "[1]\n",
            "------------------------------\n",
            "\n",
            "Aadhar_flag  : distinct_value\n",
            "2  : No. of unique Items\n",
            "[1 0]\n",
            "------------------------------\n",
            "\n",
            "PAN_flag  : distinct_value\n",
            "2  : No. of unique Items\n",
            "[0 1]\n",
            "------------------------------\n",
            "\n",
            "VoterID_flag  : distinct_value\n",
            "2  : No. of unique Items\n",
            "[0 1]\n",
            "------------------------------\n",
            "\n",
            "Driving_flag  : distinct_value\n",
            "2  : No. of unique Items\n",
            "[0 1]\n",
            "------------------------------\n",
            "\n",
            "Passport_flag  : distinct_value\n",
            "2  : No. of unique Items\n",
            "[0 1]\n",
            "------------------------------\n",
            "\n",
            "PERFORM_CNS.SCORE  : distinct_value\n",
            "573  : No. of unique Items\n",
            "[  0 598 305 825  17 718 818 300 786 738 688 585 615 750 801 730 758 768\n",
            " 610 653 413 709 719  16  15 701 626 717 692 501 693 762 749 702  18 763\n",
            " 599 824 575 607 819 841 656 836 427 687 743 783 733 708 772 650 342 680\n",
            " 676 548 429 597 663 667 792 707 798 606 681 830 684 686 593 746 829 651\n",
            " 710 573 695 671 729 879 603 753 502 739 605 706 657 639 785 405 690 602\n",
            " 635 630 741 625 628 766  14 809 737 722 760 640 797 505 774 620 728 694\n",
            " 679 470 823 685 832 662 627 392 643 727 660 705 726 796 611 771 586 839\n",
            " 623 700 691 793 752 644 734 582 437 601 703 675 755 740 810 661 324 759\n",
            " 646 659 583 440 638 490 609 721 574 673 600 784 652 595 777 596 655 678\n",
            " 713 362 466 399 426 532 386 821 714 508 636 537 698 590 488 608 519 398\n",
            " 308 634 666 523 642 616 455 672 451 469 567 572 723 367 369 654 641 647\n",
            " 366 845 775 724 323 461 665 493 459 512 549 335 571 617 449 540 442 594\n",
            " 757 423 568 613 562 633 309 406 517 534 649 471 344 503 499 513 699 417\n",
            " 683 624 428 732 404 711 612 805 375 629 677 569 589 363 447 431 742 689\n",
            " 767 622 474 815 495 371 343 380 781 799 631 592 542 697 584 670 580 441\n",
            " 348 696 316 756 545 669 619 385 744 453 731 416 393 448 578 390 618 554\n",
            " 782 339 835 498 452 557 581 648 712 377 536 407 507 456 430 668 327 859\n",
            " 778 419 525 372 330 563 432 538 487 485 464 403 745 478 751 773 748 564\n",
            " 401 789 664 621 614 410 632 550 591 354 446 522 588 450 509 682 560 855\n",
            " 561 472 345 337 374 481 527 736 383 435 716 790 604 425 791 359 725 439\n",
            " 303 389 735 346 637 521 844 559 457 529 496 840 336 530 533 754 302 826\n",
            " 645 415 565 543 541 556 779 500 704 820 397 539 795 467 780 558 506 566\n",
            " 555 552 811 489 411 577 473 484 436 587 579 674 516 720 807 444 544 462\n",
            " 551 816 483 510 806 747 381 378 321 812 800 535 340 465 518 770 504 764\n",
            " 468 475 438 477 494 482 511 396 418 479 520 878 570 460 424 803 547 769\n",
            " 858 379 315 546 421 310 476 497 356 715 395 553 526 576 312 890 814 445\n",
            " 454 853 658 412 434 804 761 528 458 515 514 307 408 314 319 433 492 817\n",
            " 318 350 402 400 794 368 531 388 409 422 365 333 394 347 382 463 787 301\n",
            " 357 317 802 524 420 486 491 326 306 355 864 813 480 391 361 373 358 376\n",
            " 414 351 352 320 788 370 349 360 443 869 828 338 833 341 850 808 776 870\n",
            " 329 304 328 384 387 842 834 863 847 322 311 325 868  11 873 353 765 332\n",
            " 843 364 331 849 862 822 884 852 334 831 827 838 837 313 867]\n",
            "------------------------------\n",
            "\n",
            "PERFORM_CNS.SCORE.DESCRIPTION  : distinct_value\n",
            "20  : No. of unique Items\n",
            "['No Bureau History Available' 'I-Medium Risk' 'L-Very High Risk'\n",
            " 'A-Very Low Risk' 'Not Scored: Not Enough Info available on the customer'\n",
            " 'D-Very Low Risk' 'M-Very High Risk' 'B-Very Low Risk' 'C-Very Low Risk'\n",
            " 'E-Low Risk' 'H-Medium Risk' 'F-Low Risk' 'K-High Risk'\n",
            " 'Not Scored: No Activity seen on the customer (Inactive)'\n",
            " 'Not Scored: Sufficient History Not Available'\n",
            " 'Not Scored: No Updates available in last 36 months' 'G-Low Risk'\n",
            " 'J-High Risk' 'Not Scored: Only a Guarantor'\n",
            " 'Not Scored: More than 50 active Accounts found']\n",
            "------------------------------\n",
            "\n",
            "PRI.NO.OF.ACCTS  : distinct_value\n",
            "108  : No. of unique Items\n",
            "[  0   1   3   2   7  10   5   6  13   9   4  11  36   8  17  12  14  16\n",
            "  24  29  21  30  15  34  25  56  20  49  19  45  18  23  22  31  46  26\n",
            "  40  37  27  32  38  35  28  48  58  41  90  60  93  50  43  39  33  44\n",
            "  55  66  53 120  47  42  62  82  94  52  51 108  57  67  78  54  68  65\n",
            "  59 148 271  70  72  74  63 147  73  64  71  87  84  99  61  77 453 132\n",
            "  91  81 113  69 194  76 354  88 100 102 136 124  85 131 104 114  86  83]\n",
            "------------------------------\n",
            "\n",
            "PRI.ACTIVE.ACCTS  : distinct_value\n",
            "40  : No. of unique Items\n",
            "[  0   1   2   5   4   8   3   6   9  11   7  14  10  12  21  20  15  16\n",
            "  18  13  19  17  31  25  23  27  26  65  32  24  22  35  34  52  28  43\n",
            "  37 144  42  39]\n",
            "------------------------------\n",
            "\n",
            "PRI.OVERDUE.ACCTS  : distinct_value\n",
            "22  : No. of unique Items\n",
            "[ 0  1  3  2 14  4  5  8  6  7  9 18 13 11 12 17 10 23 19 15 16 25]\n",
            "------------------------------\n",
            "\n",
            "PRI.CURRENT.BALANCE  : distinct_value\n",
            "71341  : No. of unique Items\n",
            "[     0  27600  72879 ...  13064 201422 390443]\n",
            "------------------------------\n",
            "\n",
            "PRI.SANCTIONED.AMOUNT  : distinct_value\n",
            "44390  : No. of unique Items\n",
            "[     0  50200  74500 ...  85629 276624 416133]\n",
            "------------------------------\n",
            "\n",
            "PRI.DISBURSED.AMOUNT  : distinct_value\n",
            "47909  : No. of unique Items\n",
            "[     0  50200  74500 ...  80226 237977 416133]\n",
            "------------------------------\n",
            "\n",
            "SEC.NO.OF.ACCTS  : distinct_value\n",
            "37  : No. of unique Items\n",
            "[ 0  2  1  3 11  9  5  4  7 19  6 16  8 10 23 13 25 46 14 31 15 20 18 28\n",
            " 30 38 37 29 12 24 17 34 21 42 22 35 52]\n",
            "------------------------------\n",
            "\n",
            "SEC.ACTIVE.ACCTS  : distinct_value\n",
            "23  : No. of unique Items\n",
            "[ 0  2  1  3 11  4  9  5  7  6 10 26 22  8 21 14 15 12 20 13 36 17 16]\n",
            "------------------------------\n",
            "\n",
            "SEC.OVERDUE.ACCTS  : distinct_value\n",
            "9  : No. of unique Items\n",
            "[0 1 4 5 3 2 6 8 7]\n",
            "------------------------------\n",
            "\n",
            "SEC.CURRENT.BALANCE  : distinct_value\n",
            "3246  : No. of unique Items\n",
            "[      0 1171994 5787530 ... 3618737   17326   41108]\n",
            "------------------------------\n",
            "\n",
            "SEC.SANCTIONED.AMOUNT  : distinct_value\n",
            "2223  : No. of unique Items\n",
            "[      0 1690000   40000 ... 3953133   64040   49246]\n",
            "------------------------------\n",
            "\n",
            "SEC.DISBURSED.AMOUNT  : distinct_value\n",
            "2553  : No. of unique Items\n",
            "[      0 1690000     361 ... 3953133   64040   49246]\n",
            "------------------------------\n",
            "\n",
            "PRIMARY.INSTAL.AMT  : distinct_value\n",
            "28067  : No. of unique Items\n",
            "[    0  1991    31 ... 22090 79611 23356]\n",
            "------------------------------\n",
            "\n",
            "SEC.INSTAL.AMT  : distinct_value\n",
            "1918  : No. of unique Items\n",
            "[   0 9382 6485 ... 2665 3500 3558]\n",
            "------------------------------\n",
            "\n",
            "NEW.ACCTS.IN.LAST.SIX.MONTHS  : distinct_value\n",
            "26  : No. of unique Items\n",
            "[ 0  1  4  2  6  3  9  5 14  8  7 13 22 10 11 12 35 17 28 15 19 23 16 20\n",
            " 18 21]\n",
            "------------------------------\n",
            "\n",
            "DELINQUENT.ACCTS.IN.LAST.SIX.MONTHS  : distinct_value\n",
            "14  : No. of unique Items\n",
            "[ 0  1  2  3  5  4  7  6  8  9 12 10 20 11]\n",
            "------------------------------\n",
            "\n",
            "AVERAGE.ACCT.AGE  : distinct_value\n",
            "192  : No. of unique Items\n",
            "['0yrs 0mon' '1yrs 11mon' '0yrs 8mon' '1yrs 9mon' '0yrs 2mon' '4yrs 8mon'\n",
            " '1yrs 7mon' '0yrs 7mon' '2yrs 1mon' '1yrs 3mon' '1yrs 0mon' '3yrs 11mon'\n",
            " '0yrs 1mon' '2yrs 6mon' '1yrs 10mon' '0yrs 11mon' '0yrs 6mon' '2yrs 9mon'\n",
            " '3yrs 1mon' '2yrs 0mon' '0yrs 4mon' '1yrs 1mon' '0yrs 5mon' '2yrs 10mon'\n",
            " '3yrs 9mon' '1yrs 2mon' '12yrs 10mon' '0yrs 10mon' '1yrs 6mon'\n",
            " '2yrs 5mon' '3yrs 8mon' '2yrs 3mon' '1yrs 5mon' '2yrs 8mon' '0yrs 9mon'\n",
            " '3yrs 0mon' '7yrs 3mon' '4yrs 4mon' '1yrs 4mon' '0yrs 3mon' '1yrs 8mon'\n",
            " '3yrs 4mon' '3yrs 5mon' '4yrs 7mon' '2yrs 7mon' '2yrs 4mon' '3yrs 10mon'\n",
            " '5yrs 6mon' '2yrs 2mon' '3yrs 3mon' '4yrs 0mon' '4yrs 10mon' '9yrs 10mon'\n",
            " '5yrs 0mon' '5yrs 1mon' '4yrs 11mon' '6yrs 2mon' '10yrs 3mon'\n",
            " '6yrs 11mon' '4yrs 6mon' '4yrs 5mon' '6yrs 8mon' '6yrs 5mon' '5yrs 3mon'\n",
            " '4yrs 1mon' '3yrs 6mon' '4yrs 3mon' '3yrs 7mon' '3yrs 2mon' '7yrs 0mon'\n",
            " '5yrs 2mon' '7yrs 11mon' '5yrs 5mon' '4yrs 9mon' '9yrs 11mon' '7yrs 5mon'\n",
            " '2yrs 11mon' '10yrs 0mon' '6yrs 0mon' '5yrs 9mon' '4yrs 2mon'\n",
            " '11yrs 7mon' '6yrs 9mon' '6yrs 3mon' '10yrs 9mon' '7yrs 6mon' '8yrs 0mon'\n",
            " '12yrs 3mon' '8yrs 1mon' '7yrs 9mon' '5yrs 10mon' '5yrs 4mon' '8yrs 5mon'\n",
            " '11yrs 4mon' '6yrs 7mon' '5yrs 11mon' '6yrs 4mon' '6yrs 6mon' '9yrs 7mon'\n",
            " '5yrs 7mon' '8yrs 8mon' '5yrs 8mon' '10yrs 2mon' '8yrs 9mon' '10yrs 8mon'\n",
            " '12yrs 0mon' '9yrs 8mon' '8yrs 2mon' '13yrs 10mon' '7yrs 10mon'\n",
            " '7yrs 8mon' '9yrs 9mon' '9yrs 2mon' '8yrs 4mon' '10yrs 11mon'\n",
            " '11yrs 0mon' '11yrs 8mon' '9yrs 1mon' '10yrs 1mon' '6yrs 10mon'\n",
            " '11yrs 2mon' '11yrs 10mon' '10yrs 4mon' '13yrs 0mon' '13yrs 8mon'\n",
            " '10yrs 10mon' '11yrs 6mon' '10yrs 7mon' '7yrs 7mon' '9yrs 0mon'\n",
            " '13yrs 1mon' '7yrs 4mon' '6yrs 1mon' '11yrs 1mon' '14yrs 7mon'\n",
            " '8yrs 3mon' '7yrs 1mon' '8yrs 7mon' '9yrs 6mon' '7yrs 2mon' '9yrs 4mon'\n",
            " '14yrs 3mon' '11yrs 11mon' '9yrs 5mon' '8yrs 6mon' '11yrs 3mon'\n",
            " '8yrs 10mon' '9yrs 3mon' '12yrs 9mon' '12yrs 7mon' '14yrs 5mon'\n",
            " '12yrs 6mon' '14yrs 1mon' '13yrs 5mon' '15yrs 11mon' '10yrs 6mon'\n",
            " '13yrs 7mon' '13yrs 6mon' '14yrs 8mon' '30yrs 9mon' '11yrs 9mon'\n",
            " '15yrs 3mon' '8yrs 11mon' '18yrs 11mon' '15yrs 2mon' '15yrs 5mon'\n",
            " '10yrs 5mon' '24yrs 4mon' '13yrs 11mon' '13yrs 3mon' '14yrs 0mon'\n",
            " '12yrs 11mon' '16yrs 3mon' '17yrs 10mon' '16yrs 11mon' '12yrs 2mon'\n",
            " '12yrs 4mon' '15yrs 0mon' '12yrs 5mon' '11yrs 5mon' '12yrs 1mon'\n",
            " '22yrs 6mon' '13yrs 2mon' '15yrs 4mon' '13yrs 4mon' '14yrs 11mon'\n",
            " '14yrs 2mon' '16yrs 0mon' '16yrs 5mon' '16yrs 7mon' '14yrs 6mon'\n",
            " '15yrs 8mon']\n",
            "------------------------------\n",
            "\n",
            "CREDIT.HISTORY.LENGTH  : distinct_value\n",
            "294  : No. of unique Items\n",
            "['0yrs 0mon' '1yrs 11mon' '1yrs 3mon' '2yrs 0mon' '0yrs 2mon' '4yrs 8mon'\n",
            " '1yrs 7mon' '0yrs 7mon' '2yrs 3mon' '2yrs 9mon' '2yrs 1mon' '7yrs 2mon'\n",
            " '0yrs 1mon' '5yrs 6mon' '4yrs 7mon' '1yrs 9mon' '0yrs 11mon' '0yrs 10mon'\n",
            " '5yrs 10mon' '3yrs 1mon' '5yrs 4mon' '4yrs 10mon' '0yrs 4mon' '4yrs 0mon'\n",
            " '3yrs 9mon' '2yrs 11mon' '1yrs 8mon' '5yrs 2mon' '2yrs 10mon' '1yrs 2mon'\n",
            " '1yrs 5mon' '12yrs 10mon' '2yrs 2mon' '3yrs 8mon' '7yrs 5mon' '1yrs 0mon'\n",
            " '4yrs 2mon' '1yrs 10mon' '0yrs 6mon' '3yrs 2mon' '5yrs 1mon' '4yrs 3mon'\n",
            " '6yrs 9mon' '1yrs 1mon' '11yrs 0mon' '0yrs 9mon' '5yrs 0mon' '11yrs 2mon'\n",
            " '4yrs 1mon' '1yrs 4mon' '4yrs 9mon' '12yrs 11mon' '3yrs 7mon' '2yrs 5mon'\n",
            " '0yrs 3mon' '6yrs 6mon' '1yrs 6mon' '7yrs 4mon' '19yrs 3mon' '3yrs 0mon'\n",
            " '4yrs 6mon' '2yrs 7mon' '2yrs 8mon' '3yrs 11mon' '4yrs 11mon' '8yrs 1mon'\n",
            " '7yrs 7mon' '6yrs 7mon' '2yrs 4mon' '3yrs 10mon' '3yrs 3mon' '9yrs 2mon'\n",
            " '5yrs 11mon' '7yrs 1mon' '0yrs 5mon' '3yrs 5mon' '3yrs 4mon' '2yrs 6mon'\n",
            " '3yrs 6mon' '6yrs 10mon' '6yrs 3mon' '4yrs 5mon' '13yrs 2mon'\n",
            " '12yrs 3mon' '0yrs 8mon' '6yrs 2mon' '11yrs 11mon' '6yrs 5mon'\n",
            " '5yrs 5mon' '6yrs 11mon' '11yrs 4mon' '6yrs 1mon' '8yrs 6mon' '8yrs 4mon'\n",
            " '5yrs 8mon' '8yrs 11mon' '11yrs 3mon' '10yrs 9mon' '7yrs 3mon'\n",
            " '5yrs 7mon' '10yrs 0mon' '6yrs 8mon' '5yrs 3mon' '10yrs 10mon'\n",
            " '8yrs 8mon' '4yrs 4mon' '6yrs 0mon' '8yrs 3mon' '8yrs 7mon' '10yrs 5mon'\n",
            " '24yrs 8mon' '13yrs 5mon' '5yrs 9mon' '8yrs 5mon' '10yrs 2mon'\n",
            " '7yrs 0mon' '8yrs 10mon' '11yrs 5mon' '9yrs 4mon' '12yrs 0mon'\n",
            " '9yrs 8mon' '7yrs 11mon' '9yrs 5mon' '11yrs 7mon' '7yrs 8mon' '6yrs 4mon'\n",
            " '9yrs 11mon' '9yrs 10mon' '13yrs 3mon' '11yrs 8mon' '10yrs 1mon'\n",
            " '11yrs 6mon' '8yrs 9mon' '10yrs 4mon' '16yrs 1mon' '9yrs 1mon'\n",
            " '15yrs 2mon' '11yrs 9mon' '12yrs 1mon' '8yrs 2mon' '22yrs 7mon'\n",
            " '10yrs 3mon' '9yrs 7mon' '8yrs 0mon' '14yrs 9mon' '14yrs 10mon'\n",
            " '14yrs 0mon' '10yrs 8mon' '16yrs 5mon' '10yrs 7mon' '11yrs 10mon'\n",
            " '12yrs 6mon' '7yrs 9mon' '16yrs 4mon' '11yrs 1mon' '7yrs 6mon'\n",
            " '7yrs 10mon' '9yrs 9mon' '12yrs 8mon' '12yrs 9mon' '13yrs 7mon'\n",
            " '9yrs 0mon' '17yrs 1mon' '22yrs 3mon' '13yrs 10mon' '13yrs 6mon'\n",
            " '12yrs 4mon' '10yrs 11mon' '9yrs 3mon' '12yrs 5mon' '14yrs 11mon'\n",
            " '10yrs 6mon' '9yrs 6mon' '15yrs 1mon' '14yrs 3mon' '13yrs 4mon'\n",
            " '14yrs 7mon' '15yrs 11mon' '27yrs 4mon' '13yrs 0mon' '13yrs 8mon'\n",
            " '19yrs 11mon' '16yrs 8mon' '24yrs 2mon' '15yrs 7mon' '13yrs 1mon'\n",
            " '12yrs 7mon' '15yrs 6mon' '15yrs 5mon' '13yrs 11mon' '16yrs 6mon'\n",
            " '23yrs 3mon' '17yrs 0mon' '14yrs 6mon' '17yrs 10mon' '14yrs 1mon'\n",
            " '18yrs 1mon' '15yrs 3mon' '20yrs 6mon' '14yrs 8mon' '15yrs 9mon'\n",
            " '19yrs 9mon' '15yrs 10mon' '17yrs 9mon' '15yrs 4mon' '12yrs 2mon'\n",
            " '19yrs 10mon' '15yrs 8mon' '14yrs 4mon' '14yrs 2mon' '14yrs 5mon'\n",
            " '27yrs 3mon' '19yrs 8mon' '17yrs 6mon' '16yrs 9mon' '20yrs 1mon'\n",
            " '16yrs 2mon' '19yrs 4mon' '13yrs 9mon' '18yrs 4mon' '17yrs 3mon'\n",
            " '18yrs 2mon' '37yrs 5mon' '16yrs 0mon' '18yrs 6mon' '19yrs 7mon'\n",
            " '16yrs 3mon' '20yrs 5mon' '21yrs 3mon' '25yrs 6mon' '20yrs 8mon'\n",
            " '22yrs 1mon' '20yrs 9mon' '17yrs 2mon' '18yrs 5mon' '30yrs 9mon'\n",
            " '29yrs 7mon' '15yrs 0mon' '16yrs 10mon' '18yrs 11mon' '16yrs 11mon'\n",
            " '22yrs 2mon' '23yrs 6mon' '20yrs 11mon' '18yrs 10mon' '24yrs 4mon'\n",
            " '28yrs 1mon' '16yrs 7mon' '20yrs 10mon' '25yrs 0mon' '25yrs 7mon'\n",
            " '39yrs 0mon' '23yrs 2mon' '19yrs 6mon' '18yrs 0mon' '17yrs 7mon'\n",
            " '23yrs 4mon' '21yrs 5mon' '17yrs 5mon' '21yrs 8mon' '30yrs 7mon'\n",
            " '17yrs 4mon' '19yrs 5mon' '18yrs 8mon' '22yrs 6mon' '24yrs 7mon'\n",
            " '20yrs 4mon' '28yrs 3mon' '35yrs 3mon' '29yrs 1mon' '20yrs 2mon'\n",
            " '34yrs 5mon' '17yrs 11mon' '26yrs 3mon' '28yrs 7mon' '24yrs 0mon'\n",
            " '26yrs 8mon' '21yrs 11mon' '17yrs 8mon' '19yrs 1mon' '21yrs 1mon'\n",
            " '26yrs 11mon' '22yrs 11mon' '25yrs 8mon' '22yrs 0mon' '20yrs 0mon'\n",
            " '22yrs 4mon' '21yrs 9mon' '28yrs 9mon' '19yrs 0mon' '25yrs 11mon'\n",
            " '23yrs 1mon' '21yrs 2mon' '22yrs 10mon']\n",
            "------------------------------\n",
            "\n",
            "NO.OF_INQUIRIES  : distinct_value\n",
            "25  : No. of unique Items\n",
            "[ 0  1  4  2  3  5  6 12  9  8 18  7 19 11 10 15 14 17 20 13 23 28 16 22\n",
            " 36]\n",
            "------------------------------\n",
            "\n",
            "loan_default  : distinct_value\n",
            "2  : No. of unique Items\n",
            "[0 1]\n",
            "------------------------------\n",
            "\n"
          ]
        }
      ],
      "source": [
        "for i in data.columns:\n",
        "    print(i,\" : distinct_value\")\n",
        "    print(data[i].nunique(),\" : No. of unique Items\")\n",
        "    print(data[i].unique())\n",
        "    print(\"-\"*30)\n",
        "    print(\"\")"
      ]
    },
    {
      "cell_type": "markdown",
      "metadata": {
        "id": "HA2yRhcZ56Mh"
      },
      "source": [
        "## Step 2: Data Transformation & Check for Missing Values"
      ]
    },
    {
      "cell_type": "markdown",
      "metadata": {
        "id": "9FtSPfrt56Mh"
      },
      "source": [
        "#Let check for missing values with pandas and we found Employment Type data is missing\n",
        "\n",
        "if you look at your **Date.of.Birth** its a string, lets change it datetime format\n",
        "mydata['Date.of.Birth'] "
      ]
    },
    {
      "cell_type": "code",
      "execution_count": null,
      "metadata": {
        "id": "ZKXr8t5656Mh"
      },
      "outputs": [],
      "source": [
        "data.isna()"
      ]
    },
    {
      "cell_type": "code",
      "execution_count": null,
      "metadata": {
        "id": "phz_UiPi56Mh",
        "outputId": "aca6ad58-5e26-4748-892f-e7e881a0a819"
      },
      "outputs": [
        {
          "data": {
            "text/plain": [
              "UniqueID                               0.00\n",
              "disbursed_amount                       0.00\n",
              "asset_cost                             0.00\n",
              "ltv                                    0.00\n",
              "branch_id                              0.00\n",
              "supplier_id                            0.00\n",
              "manufacturer_id                        0.00\n",
              "Current_pincode_ID                     0.00\n",
              "Date.of.Birth                          0.00\n",
              "Employment.Type                        3.29\n",
              "DisbursalDate                          0.00\n",
              "State_ID                               0.00\n",
              "Employee_code_ID                       0.00\n",
              "MobileNo_Avl_Flag                      0.00\n",
              "Aadhar_flag                            0.00\n",
              "PAN_flag                               0.00\n",
              "VoterID_flag                           0.00\n",
              "Driving_flag                           0.00\n",
              "Passport_flag                          0.00\n",
              "PERFORM_CNS.SCORE                      0.00\n",
              "PERFORM_CNS.SCORE.DESCRIPTION          0.00\n",
              "PRI.NO.OF.ACCTS                        0.00\n",
              "PRI.ACTIVE.ACCTS                       0.00\n",
              "PRI.OVERDUE.ACCTS                      0.00\n",
              "PRI.CURRENT.BALANCE                    0.00\n",
              "PRI.SANCTIONED.AMOUNT                  0.00\n",
              "PRI.DISBURSED.AMOUNT                   0.00\n",
              "SEC.NO.OF.ACCTS                        0.00\n",
              "SEC.ACTIVE.ACCTS                       0.00\n",
              "SEC.OVERDUE.ACCTS                      0.00\n",
              "SEC.CURRENT.BALANCE                    0.00\n",
              "SEC.SANCTIONED.AMOUNT                  0.00\n",
              "SEC.DISBURSED.AMOUNT                   0.00\n",
              "PRIMARY.INSTAL.AMT                     0.00\n",
              "SEC.INSTAL.AMT                         0.00\n",
              "NEW.ACCTS.IN.LAST.SIX.MONTHS           0.00\n",
              "DELINQUENT.ACCTS.IN.LAST.SIX.MONTHS    0.00\n",
              "AVERAGE.ACCT.AGE                       0.00\n",
              "CREDIT.HISTORY.LENGTH                  0.00\n",
              "NO.OF_INQUIRIES                        0.00\n",
              "loan_default                           0.00\n",
              "dtype: float64"
            ]
          },
          "execution_count": 7,
          "metadata": {},
          "output_type": "execute_result"
        }
      ],
      "source": [
        "round(100*(data.isna().sum())/len(data), 2)"
      ]
    },
    {
      "cell_type": "markdown",
      "metadata": {
        "id": "mRw92qvJ56Mh"
      },
      "source": [
        "Now we have 2 Columns named \"AVERAGE_ACCT_AGE\" & \"CREDIT_HISTORY_LENGTH\".\n",
        "They have AplhNumeric Values Lets change them to Months"
      ]
    },
    {
      "cell_type": "code",
      "execution_count": null,
      "metadata": {
        "id": "wt9WpJyB56Mh"
      },
      "outputs": [],
      "source": [
        "def change_col_month(col):\n",
        "    year = int(col.split()[0].replace('yrs',''))\n",
        "    month = int(col.split()[1].replace('mon',''))\n",
        "    return year*12+month\n",
        "\n",
        "data['CREDIT.HISTORY.LENGTH'] = data['CREDIT.HISTORY.LENGTH'].apply(change_col_month)\n",
        "data['AVERAGE.ACCT.AGE'] = data['AVERAGE.ACCT.AGE'].apply(change_col_month)"
      ]
    },
    {
      "cell_type": "markdown",
      "metadata": {
        "id": "wIsGhPJp56Mi"
      },
      "source": [
        "### Transform CNS Score And Create New Columns"
      ]
    },
    {
      "cell_type": "code",
      "execution_count": null,
      "metadata": {
        "id": "2uAYaDm_56Mj",
        "outputId": "34f90a86-3059-41ee-b597-f05ec411f80b"
      },
      "outputs": [
        {
          "data": {
            "text/plain": [
              "No Bureau History Available                                116950\n",
              "C-Very Low Risk                                             16045\n",
              "A-Very Low Risk                                             14124\n",
              "D-Very Low Risk                                             11358\n",
              "B-Very Low Risk                                              9201\n",
              "M-Very High Risk                                             8776\n",
              "F-Low Risk                                                   8485\n",
              "K-High Risk                                                  8277\n",
              "H-Medium Risk                                                6855\n",
              "E-Low Risk                                                   5821\n",
              "I-Medium Risk                                                5557\n",
              "G-Low Risk                                                   3988\n",
              "Not Scored: Sufficient History Not Available                 3765\n",
              "J-High Risk                                                  3748\n",
              "Not Scored: Not Enough Info available on the customer        3672\n",
              "Not Scored: No Activity seen on the customer (Inactive)      2885\n",
              "Not Scored: No Updates available in last 36 months           1534\n",
              "L-Very High Risk                                             1134\n",
              "Not Scored: Only a Guarantor                                  976\n",
              "Not Scored: More than 50 active Accounts found                  3\n",
              "Name: PERFORM_CNS.SCORE.DESCRIPTION, dtype: int64"
            ]
          },
          "execution_count": 17,
          "metadata": {},
          "output_type": "execute_result"
        }
      ],
      "source": [
        "data['PERFORM_CNS.SCORE.DESCRIPTION'].value_counts()"
      ]
    },
    {
      "cell_type": "code",
      "execution_count": null,
      "metadata": {
        "id": "9BMarAfB56Mj",
        "outputId": "9c59da43-a1ac-4249-a24d-06b1f1539e61"
      },
      "outputs": [
        {
          "name": "stderr",
          "output_type": "stream",
          "text": [
            "/home/u52972/tmp/ipykernel_3986812/2530144808.py:9: DeprecationWarning: `np.object` is a deprecated alias for the builtin `object`. To silence this warning, use `object` by itself. Doing this will not modify any behavior and is safe. \n",
            "Deprecated in NumPy 1.20; for more details and guidance: https://numpy.org/devdocs/release/1.20.0-notes.html#deprecations\n",
            "  data['CNS_SCORE_DESCRIPTION']=data['PERFORM_CNS.SCORE.DESCRIPTION'].apply(replace_scored).astype(np.object)\n"
          ]
        }
      ],
      "source": [
        "def replace_scored(n):\n",
        "    score=n.split(\"-\")\n",
        "    \n",
        "    if len(score)!=1:\n",
        "       \n",
        "        return score[0]\n",
        "    else:\n",
        "        return 'N'\n",
        "data['CNS_SCORE_DESCRIPTION']=data['PERFORM_CNS.SCORE.DESCRIPTION'].apply(replace_scored).astype(np.object)"
      ]
    },
    {
      "cell_type": "markdown",
      "metadata": {
        "id": "XL7XRpYk56Mk"
      },
      "source": [
        "Now Transform CNS Score Description data into Numbers"
      ]
    },
    {
      "cell_type": "code",
      "execution_count": null,
      "metadata": {
        "id": "u17YZ3UJ56Mk"
      },
      "outputs": [],
      "source": [
        "sub_risk = {'N':-1, 'K':0, 'J':1, 'I':1, 'H':2, 'G':2, 'E':3,'F':3, 'L':7, 'M':7, 'B':7, 'D':7, 'A':7, 'C':7}\n",
        "\n",
        "data['CNS_SCORE_DESCRIPTION']= data['CNS_SCORE_DESCRIPTION'].replace(sub_risk)"
      ]
    },
    {
      "cell_type": "code",
      "execution_count": null,
      "metadata": {
        "id": "t53mGBGO56Mk",
        "outputId": "75e45b39-372d-4875-f37f-e3e9e66ea88c"
      },
      "outputs": [
        {
          "data": {
            "text/plain": [
              "<matplotlib.axes._subplots.AxesSubplot at 0x7f05b0d250a0>"
            ]
          },
          "execution_count": 20,
          "metadata": {},
          "output_type": "execute_result"
        },
        {
          "data": {
            "image/png": "[encoded data removed]",
            "text/plain": [
              "<Figure size 864x576 with 1 Axes>"
            ]
          },
          "metadata": {
            "needs_background": "light"
          },
          "output_type": "display_data"
        }
      ],
      "source": [
        "plt.figure(figsize=(12,8))\n",
        "sns.countplot(x=data['CNS_SCORE_DESCRIPTION'])"
      ]
    },
    {
      "cell_type": "markdown",
      "metadata": {
        "id": "l6pde3xr56Mk"
      },
      "source": [
        "Replacing all the values into Common Group"
      ]
    },
    {
      "cell_type": "code",
      "execution_count": null,
      "metadata": {
        "id": "zyHNIUPX56Mk"
      },
      "outputs": [],
      "source": [
        "data['PERFORM_CNS.SCORE.DESCRIPTION'].replace({'C-Very Low Risk':'Very Low Risk',\n",
        "                                             'A-Very Low Risk':'Very Low Risk',\n",
        "                                             'D-Very Low Risk':'Very Low Risk',\n",
        "                                             'B-Very Low Risk':'Very Low Risk',\n",
        "                                             'M-Very High Risk':'Very High Risk',\n",
        "                                             'L-Very High Risk':'Very High Risk',\n",
        "                                             'F-Low Risk':'Low Risk',\n",
        "                                             'E-Low Risk':'Low Risk',\n",
        "                                             'G-Low Risk':'Low Risk',\n",
        "                                             'H-Medium Risk':'Medium Risk',\n",
        "                                             'I-Medium Risk':'Medium Risk',\n",
        "                                             'J-High Risk':'High Risk',\n",
        "                                             'K-High Risk':'High Risk'},\n",
        "                                              inplace=True)"
      ]
    },
    {
      "cell_type": "markdown",
      "metadata": {
        "id": "POY9SPFZ56Mk"
      },
      "source": [
        "Transformin them into Numeric Features"
      ]
    },
    {
      "cell_type": "code",
      "execution_count": null,
      "metadata": {
        "id": "m2ngVQ4l56Mk"
      },
      "outputs": [],
      "source": [
        "risk_score = {'No Bureau History Available':-1, \n",
        "              'Not Scored: No Activity seen on the customer (Inactive)':-1,\n",
        "              'Not Scored: Sufficient History Not Available':-1,\n",
        "              'Not Scored: No Updates available in last 36 months':-1,\n",
        "              'Not Scored: Only a Guarantor':-1,\n",
        "              'Not Scored: More than 50 active Accounts found':-1,\n",
        "              'Not Scored: Not Enough Info available on the customer':-1,\n",
        "              'Very Low Risk':-1,\n",
        "              'Low Risk':3,\n",
        "              'Medium Risk':2, \n",
        "              'High Risk':1,\n",
        "              'Very High Risk':0}\n",
        "\n",
        "data['PERFORM_CNS.SCORE.DESCRIPTION'] = data['PERFORM_CNS.SCORE.DESCRIPTION'].map(risk_score)"
      ]
    },
    {
      "cell_type": "code",
      "execution_count": null,
      "metadata": {
        "id": "T4L_RKzS56Ml",
        "outputId": "0fa9d940-ddf9-41b9-e7a2-189f1943910a"
      },
      "outputs": [
        {
          "data": {
            "text/plain": [
              "<matplotlib.axes._subplots.AxesSubplot at 0x7f05a7654850>"
            ]
          },
          "execution_count": 23,
          "metadata": {},
          "output_type": "execute_result"
        },
        {
          "data": {
            "image/png": "[encoded data removed]",
            "text/plain": [
              "<Figure size 432x288 with 1 Axes>"
            ]
          },
          "metadata": {
            "needs_background": "light"
          },
          "output_type": "display_data"
        }
      ],
      "source": [
        "sns.countplot(x=data['PERFORM_CNS.SCORE.DESCRIPTION'])"
      ]
    },
    {
      "cell_type": "markdown",
      "metadata": {
        "id": "KRLLJ48w56Ml"
      },
      "source": [
        "### Treating Missing Values"
      ]
    },
    {
      "cell_type": "code",
      "execution_count": null,
      "metadata": {
        "id": "z5mUNMUC56Ml",
        "outputId": "2953377b-c361-4778-c47c-c2a8545dcf3f"
      },
      "outputs": [
        {
          "data": {
            "text/plain": [
              "Self employed    135296\n",
              "Salaried          97858\n",
              "Name: Employment.Type, dtype: int64"
            ]
          },
          "execution_count": 24,
          "metadata": {},
          "output_type": "execute_result"
        }
      ],
      "source": [
        "data['Employment.Type'] = data['Employment.Type'].fillna(data['Employment.Type'].mode()[0])\n",
        "data['Employment.Type'].value_counts()"
      ]
    },
    {
      "cell_type": "code",
      "execution_count": null,
      "metadata": {
        "id": "8i7mOKkP56Ml",
        "outputId": "a30ccce8-b520-46e7-b185-d4eb8c7bcb97"
      },
      "outputs": [
        {
          "data": {
            "text/plain": [
              "<matplotlib.axes._subplots.AxesSubplot at 0x7f05a8715f40>"
            ]
          },
          "execution_count": 25,
          "metadata": {},
          "output_type": "execute_result"
        },
        {
          "data": {
            "image/png": "[encoded data removed]",
            "text/plain": [
              "<Figure size 432x288 with 1 Axes>"
            ]
          },
          "metadata": {
            "needs_background": "light"
          },
          "output_type": "display_data"
        }
      ],
      "source": [
        "sns.countplot(x=data['Employment.Type'])"
      ]
    },
    {
      "cell_type": "code",
      "execution_count": null,
      "metadata": {
        "id": "ePXHijvZ56Ml"
      },
      "outputs": [],
      "source": [
        "emp_map = {'Self employed':0, 'Salaried':1}\n",
        "\n",
        "data['Employment.Type'] = data['Employment.Type'].replace(emp_map)"
      ]
    },
    {
      "cell_type": "markdown",
      "metadata": {
        "id": "96cM_Stz56Ml"
      },
      "source": [
        "#### Transforming Primary and Secondary Accounts"
      ]
    },
    {
      "cell_type": "code",
      "execution_count": null,
      "metadata": {
        "id": "06clCarV56Ml"
      },
      "outputs": [],
      "source": [
        "primary_col=['PRI.NO.OF.ACCTS','PRI.ACTIVE.ACCTS','PRI.OVERDUE.ACCTS','PRI.CURRENT.BALANCE',\n",
        "             'PRI.SANCTIONED.AMOUNT','PRI.DISBURSED.AMOUNT','SEC.NO.OF.ACCTS','SEC.ACTIVE.ACCTS',\n",
        "             'SEC.OVERDUE.ACCTS','SEC.CURRENT.BALANCE','SEC.SANCTIONED.AMOUNT','SEC.DISBURSED.AMOUNT',\n",
        "            'PRIMARY.INSTAL.AMT','SEC.INSTAL.AMT']\n",
        "pri_df = data[primary_col]"
      ]
    },
    {
      "cell_type": "code",
      "execution_count": null,
      "metadata": {
        "id": "DldY-FEK56Ml"
      },
      "outputs": [],
      "source": [
        "#Creating and Sorting Columns\n",
        "\n",
        "data['NO_OF_ACCTS'] = data['PRI.NO.OF.ACCTS'] + data['SEC.NO.OF.ACCTS']\n",
        "\n",
        "data['ACTIVE_ACCTS'] = data['PRI.ACTIVE.ACCTS'] + data['SEC.ACTIVE.ACCTS']\n",
        "\n",
        "data['OVERDUE_ACCTS'] = data['PRI.OVERDUE.ACCTS'] + data['SEC.OVERDUE.ACCTS']\n",
        "\n",
        "data['CURRENT_BALANCE'] = data['PRI.CURRENT.BALANCE'] + data['SEC.CURRENT.BALANCE']\n",
        "\n",
        "data['SANCTIONED_AMOUNT'] = data['PRI.SANCTIONED.AMOUNT'] + data['SEC.SANCTIONED.AMOUNT']\n",
        "\n",
        "data['DISBURSED_AMOUNT'] = data['PRI.DISBURSED.AMOUNT'] + data['SEC.DISBURSED.AMOUNT']\n",
        "\n",
        "data['INSTAL_AMT'] = data['PRIMARY.INSTAL.AMT'] + data['SEC.SANCTIONED.AMOUNT']"
      ]
    },
    {
      "cell_type": "code",
      "execution_count": null,
      "metadata": {
        "id": "YFMmJ-9m56Mm"
      },
      "outputs": [],
      "source": [
        "data.drop(primary_col, axis=1, inplace=True)"
      ]
    },
    {
      "cell_type": "code",
      "execution_count": null,
      "metadata": {
        "id": "UF8axeY456Mm"
      },
      "outputs": [],
      "source": [
        "new_columns = ['NO_OF_ACCTS', 'ACTIVE_ACCTS', 'OVERDUE_ACCTS', 'CURRENT_BALANCE',\n",
        "       'SANCTIONED_AMOUNT', 'DISBURSED_AMOUNT', 'INSTAL_AMT']"
      ]
    },
    {
      "cell_type": "code",
      "execution_count": null,
      "metadata": {
        "id": "yL-_1I-O56Mm",
        "outputId": "65344364-be8e-4e6b-e0a6-2ef28537f745"
      },
      "outputs": [
        {
          "name": "stdout",
          "output_type": "stream",
          "text": [
            "NO_OF_ACCTS  : distinct_value\n",
            "108  : No. of unique Items\n",
            "[  0   1   3   2   7  10   5   6  13   9   4  11  36   8  17  12  14  16\n",
            "  24  30  21  15  34  25  56  20  49  19  45  18  23  22  31  46  26  40\n",
            "  37  27  55  32  29  38  35  28  48  58  41  90  60  93  50  43  39  33\n",
            "  44  66  53  52 120  47  42  62  82  94  51 108  57  67  78  54  68  65\n",
            "  59 148 271  70  72  74  63 147  64  71  87  84  99  61  77 453 132  91\n",
            "  81 113  69 194  76  73 354  97 105 102 136 124  85 131 104 114  86  83]\n",
            "------------------------------\n",
            "\n",
            "ACTIVE_ACCTS  : distinct_value\n",
            "41  : No. of unique Items\n",
            "[  0   1   2   5   4   8   3   6   9  11   7  12  10  14  21  31  16  18\n",
            "  13  19  15  17  25  28  23  27  20  26  65  32  24  22  35  34  52  43\n",
            "  37  36 144  42  39]\n",
            "------------------------------\n",
            "\n",
            "OVERDUE_ACCTS  : distinct_value\n",
            "22  : No. of unique Items\n",
            "[ 0  1  3  2 14  4  5 10  7  8  6  9 13 18 11 12 17 23 19 15 16 25]\n",
            "------------------------------\n",
            "\n",
            "CURRENT_BALANCE  : distinct_value\n",
            "72483  : No. of unique Items\n",
            "[     0  27600  72879 ...  13064 201422 390443]\n",
            "------------------------------\n",
            "\n",
            "SANCTIONED_AMOUNT  : distinct_value\n",
            "45367  : No. of unique Items\n",
            "[     0  50200  74500 ...  85629 276624 416133]\n",
            "------------------------------\n",
            "\n",
            "DISBURSED_AMOUNT  : distinct_value\n",
            "48958  : No. of unique Items\n",
            "[     0  50200  74500 ...  80226 237977 416133]\n",
            "------------------------------\n",
            "\n",
            "INSTAL_AMT  : distinct_value\n",
            "30049  : No. of unique Items\n",
            "[    0  1991    31 ... 22090 79611 23356]\n",
            "------------------------------\n",
            "\n"
          ]
        }
      ],
      "source": [
        "for i in new_columns:\n",
        "    print(i,\" : distinct_value\")\n",
        "    print(data[i].nunique(),\" : No. of unique Items\")\n",
        "    print(data[i].unique())\n",
        "    print(\"-\"*30)\n",
        "    print(\"\")"
      ]
    },
    {
      "cell_type": "markdown",
      "metadata": {
        "id": "1HHr0yjZ56Mm"
      },
      "source": [
        "# Visualization and Treating Outliers"
      ]
    },
    {
      "cell_type": "code",
      "execution_count": null,
      "metadata": {
        "id": "xPKmi1IC56Mm",
        "outputId": "70f7ff51-eca8-446b-c888-4560b2db0410"
      },
      "outputs": [
        {
          "data": {
            "text/plain": [
              "<matplotlib.axes._subplots.AxesSubplot at 0x7f05a86ff160>"
            ]
          },
          "execution_count": 32,
          "metadata": {},
          "output_type": "execute_result"
        },
        {
          "data": {
            "image/png": "[encoded data removed]",
            "text/plain": [
              "<Figure size 432x288 with 1 Axes>"
            ]
          },
          "metadata": {
            "needs_background": "light"
          },
          "output_type": "display_data"
        }
      ],
      "source": [
        "sns.scatterplot(data=data['ACTIVE_ACCTS'])"
      ]
    },
    {
      "cell_type": "code",
      "execution_count": null,
      "metadata": {
        "id": "WVQVpnq656Mm",
        "outputId": "8ff655c5-78ae-4844-bdaf-ade209e6915f"
      },
      "outputs": [
        {
          "name": "stderr",
          "output_type": "stream",
          "text": [
            "/home/u52972/tmp/ipykernel_3986812/2509761119.py:2: SettingWithCopyWarning: \n",
            "A value is trying to be set on a copy of a slice from a DataFrame\n",
            "\n",
            "See the caveats in the documentation: https://pandas.pydata.org/pandas-docs/stable/user_guide/indexing.html#returning-a-view-versus-a-copy\n",
            "  data['ACTIVE_ACCTS'][li] = int(data.drop(li)['ACTIVE_ACCTS'].mode())\n"
          ]
        }
      ],
      "source": [
        "li = list(data['ACTIVE_ACCTS'].sort_values()[-5:].index)\n",
        "data['ACTIVE_ACCTS'][li] = int(data.drop(li)['ACTIVE_ACCTS'].mode())"
      ]
    },
    {
      "cell_type": "code",
      "execution_count": null,
      "metadata": {
        "id": "7f9XX5xs56Mm",
        "outputId": "1756626d-1722-44e7-8d74-8dd4a17aa31c"
      },
      "outputs": [
        {
          "data": {
            "text/plain": [
              "<matplotlib.axes._subplots.AxesSubplot at 0x7f05a867bca0>"
            ]
          },
          "execution_count": 34,
          "metadata": {},
          "output_type": "execute_result"
        },
        {
          "data": {
            "image/png": "[encoded data removed]",
            "text/plain": [
              "<Figure size 432x288 with 1 Axes>"
            ]
          },
          "metadata": {
            "needs_background": "light"
          },
          "output_type": "display_data"
        }
      ],
      "source": [
        "sns.scatterplot(data=data['NO_OF_ACCTS'])"
      ]
    },
    {
      "cell_type": "code",
      "execution_count": null,
      "metadata": {
        "id": "mIcEti0K56Mm",
        "outputId": "0dd0de39-a9d9-4e66-ab49-a57c07431fa5"
      },
      "outputs": [
        {
          "name": "stderr",
          "output_type": "stream",
          "text": [
            "/home/u52972/tmp/ipykernel_3986812/3506611780.py:2: SettingWithCopyWarning: \n",
            "A value is trying to be set on a copy of a slice from a DataFrame\n",
            "\n",
            "See the caveats in the documentation: https://pandas.pydata.org/pandas-docs/stable/user_guide/indexing.html#returning-a-view-versus-a-copy\n",
            "  data['NO_OF_ACCTS'][li] = int(data.drop(li)['NO_OF_ACCTS'].mode())\n"
          ]
        }
      ],
      "source": [
        "li = list(data['NO_OF_ACCTS'].sort_values()[-10:].index)\n",
        "data['NO_OF_ACCTS'][li] = int(data.drop(li)['NO_OF_ACCTS'].mode())"
      ]
    },
    {
      "cell_type": "code",
      "execution_count": null,
      "metadata": {
        "id": "MYKK2S1z56Mn",
        "outputId": "c189ac51-3c09-4ad0-deed-d84a9f2f19c3"
      },
      "outputs": [
        {
          "data": {
            "text/plain": [
              "<matplotlib.axes._subplots.AxesSubplot at 0x7f05a863f7f0>"
            ]
          },
          "execution_count": 36,
          "metadata": {},
          "output_type": "execute_result"
        },
        {
          "data": {
            "image/png": "[encoded data removed]",
            "text/plain": [
              "<Figure size 432x288 with 1 Axes>"
            ]
          },
          "metadata": {
            "needs_background": "light"
          },
          "output_type": "display_data"
        }
      ],
      "source": [
        "sns.scatterplot(data=data['OVERDUE_ACCTS'])"
      ]
    },
    {
      "cell_type": "code",
      "execution_count": null,
      "metadata": {
        "id": "Bgk_qC9K56Mn",
        "outputId": "0a769e6c-74b9-491b-9953-4b945965ca8d"
      },
      "outputs": [
        {
          "name": "stderr",
          "output_type": "stream",
          "text": [
            "/home/u52972/tmp/ipykernel_3986812/1133309274.py:2: SettingWithCopyWarning: \n",
            "A value is trying to be set on a copy of a slice from a DataFrame\n",
            "\n",
            "See the caveats in the documentation: https://pandas.pydata.org/pandas-docs/stable/user_guide/indexing.html#returning-a-view-versus-a-copy\n",
            "  data['OVERDUE_ACCTS'][li] = int(data.drop(li)['OVERDUE_ACCTS'].mode())\n"
          ]
        }
      ],
      "source": [
        "li = list(data['OVERDUE_ACCTS'].sort_values()[-10:].index)\n",
        "data['OVERDUE_ACCTS'][li] = int(data.drop(li)['OVERDUE_ACCTS'].mode())"
      ]
    },
    {
      "cell_type": "code",
      "execution_count": null,
      "metadata": {
        "id": "7ev7PmgV56Mn",
        "outputId": "d5b84698-ad63-4fa2-dffa-6b4d36003ee2"
      },
      "outputs": [
        {
          "data": {
            "text/plain": [
              "<matplotlib.axes._subplots.AxesSubplot at 0x7f05a859d970>"
            ]
          },
          "execution_count": 38,
          "metadata": {},
          "output_type": "execute_result"
        },
        {
          "data": {
            "image/png": "[encoded data removed]",
            "text/plain": [
              "<Figure size 432x288 with 1 Axes>"
            ]
          },
          "metadata": {
            "needs_background": "light"
          },
          "output_type": "display_data"
        }
      ],
      "source": [
        "sns.scatterplot(data = data['CURRENT_BALANCE'])"
      ]
    },
    {
      "cell_type": "code",
      "execution_count": null,
      "metadata": {
        "id": "ASkV3zNf56Mn"
      },
      "outputs": [],
      "source": [
        "df_age = data[['disbursed_amount', 'asset_cost', 'ltv', 'Date.of.Birth','DisbursalDate','loan_default']]"
      ]
    },
    {
      "cell_type": "code",
      "execution_count": null,
      "metadata": {
        "id": "PcWKGufx56Mn",
        "outputId": "b40f5b8a-4a28-4fe0-f99c-14c86700769f"
      },
      "outputs": [
        {
          "name": "stderr",
          "output_type": "stream",
          "text": [
            "/home/u52972/tmp/ipykernel_3986812/3966675157.py:8: SettingWithCopyWarning: \n",
            "A value is trying to be set on a copy of a slice from a DataFrame.\n",
            "Try using .loc[row_indexer,col_indexer] = value instead\n",
            "\n",
            "See the caveats in the documentation: https://pandas.pydata.org/pandas-docs/stable/user_guide/indexing.html#returning-a-view-versus-a-copy\n",
            "  df_age['Date.of.Birth'] = df_age['Date.of.Birth'].apply(age)\n",
            "/home/u52972/tmp/ipykernel_3986812/3966675157.py:9: SettingWithCopyWarning: \n",
            "A value is trying to be set on a copy of a slice from a DataFrame.\n",
            "Try using .loc[row_indexer,col_indexer] = value instead\n",
            "\n",
            "See the caveats in the documentation: https://pandas.pydata.org/pandas-docs/stable/user_guide/indexing.html#returning-a-view-versus-a-copy\n",
            "  df_age['DisbursalDate'] = df_age['DisbursalDate'].apply(age)\n",
            "/home/u52972/tmp/ipykernel_3986812/3966675157.py:10: SettingWithCopyWarning: \n",
            "A value is trying to be set on a copy of a slice from a DataFrame.\n",
            "Try using .loc[row_indexer,col_indexer] = value instead\n",
            "\n",
            "See the caveats in the documentation: https://pandas.pydata.org/pandas-docs/stable/user_guide/indexing.html#returning-a-view-versus-a-copy\n",
            "  df_age['Age']=df_age['DisbursalDate']-df_age['Date.of.Birth']\n"
          ]
        },
        {
          "data": {
            "text/html": [
              "<div>\n",
              "<style scoped>\n",
              "    .dataframe tbody tr th:only-of-type {\n",
              "        vertical-align: middle;\n",
              "    }\n",
              "\n",
              "    .dataframe tbody tr th {\n",
              "        vertical-align: top;\n",
              "    }\n",
              "\n",
              "    .dataframe thead th {\n",
              "        text-align: right;\n",
              "    }\n",
              "</style>\n",
              "<table border=\"1\" class=\"dataframe\">\n",
              "  <thead>\n",
              "    <tr style=\"text-align: right;\">\n",
              "      <th></th>\n",
              "      <th>disbursed_amount</th>\n",
              "      <th>asset_cost</th>\n",
              "      <th>ltv</th>\n",
              "      <th>loan_default</th>\n",
              "      <th>Age</th>\n",
              "    </tr>\n",
              "  </thead>\n",
              "  <tbody>\n",
              "    <tr>\n",
              "      <th>0</th>\n",
              "      <td>50578</td>\n",
              "      <td>58400</td>\n",
              "      <td>89.55</td>\n",
              "      <td>0</td>\n",
              "      <td>34</td>\n",
              "    </tr>\n",
              "    <tr>\n",
              "      <th>1</th>\n",
              "      <td>47145</td>\n",
              "      <td>65550</td>\n",
              "      <td>73.23</td>\n",
              "      <td>1</td>\n",
              "      <td>33</td>\n",
              "    </tr>\n",
              "    <tr>\n",
              "      <th>2</th>\n",
              "      <td>53278</td>\n",
              "      <td>61360</td>\n",
              "      <td>89.63</td>\n",
              "      <td>0</td>\n",
              "      <td>33</td>\n",
              "    </tr>\n",
              "    <tr>\n",
              "      <th>3</th>\n",
              "      <td>57513</td>\n",
              "      <td>66113</td>\n",
              "      <td>88.48</td>\n",
              "      <td>1</td>\n",
              "      <td>25</td>\n",
              "    </tr>\n",
              "    <tr>\n",
              "      <th>4</th>\n",
              "      <td>52378</td>\n",
              "      <td>60300</td>\n",
              "      <td>88.39</td>\n",
              "      <td>1</td>\n",
              "      <td>41</td>\n",
              "    </tr>\n",
              "  </tbody>\n",
              "</table>\n",
              "</div>"
            ],
            "text/plain": [
              "   disbursed_amount  asset_cost    ltv  loan_default  Age\n",
              "0             50578       58400  89.55             0   34\n",
              "1             47145       65550  73.23             1   33\n",
              "2             53278       61360  89.63             0   33\n",
              "3             57513       66113  88.48             1   25\n",
              "4             52378       60300  88.39             1   41"
            ]
          },
          "execution_count": 40,
          "metadata": {},
          "output_type": "execute_result"
        }
      ],
      "source": [
        "def age(dob):\n",
        "    yr = int(dob[-2:])\n",
        "    if yr >=0 and yr < 22:\n",
        "        return yr + 2000\n",
        "    else:\n",
        "         return yr + 1900\n",
        "        \n",
        "df_age['Date.of.Birth'] = df_age['Date.of.Birth'].apply(age)\n",
        "df_age['DisbursalDate'] = df_age['DisbursalDate'].apply(age)\n",
        "df_age['Age']=df_age['DisbursalDate']-df_age['Date.of.Birth']\n",
        "df_age=df_age.drop(['DisbursalDate','Date.of.Birth'],axis=1)\n",
        "\n",
        "df_age.head()"
      ]
    },
    {
      "cell_type": "code",
      "execution_count": null,
      "metadata": {
        "id": "zFxRXOvQ56Mn",
        "outputId": "f93bd58b-a02f-44eb-918c-e42cdbeb2a59"
      },
      "outputs": [
        {
          "data": {
            "text/plain": [
              "<matplotlib.axes._subplots.AxesSubplot at 0x7f05a82ffdf0>"
            ]
          },
          "execution_count": 41,
          "metadata": {},
          "output_type": "execute_result"
        },
        {
          "data": {
            "image/png": "[encoded data removed]",
            "text/plain": [
              "<Figure size 720x504 with 1 Axes>"
            ]
          },
          "metadata": {
            "needs_background": "light"
          },
          "output_type": "display_data"
        }
      ],
      "source": [
        "ax = plt.subplots(figsize=(10,7))\n",
        "sns.countplot(x=df_age['Age'],alpha=.8)"
      ]
    },
    {
      "cell_type": "code",
      "execution_count": null,
      "metadata": {
        "id": "NU-3h8ob56Mn"
      },
      "outputs": [],
      "source": [
        "data['Date.of.Birth'] = data['Date.of.Birth'].apply(age)\n",
        "data['DisbursalDate'] = data['DisbursalDate'].apply(age)\n",
        "data['Age'] = data['DisbursalDate'] - data['Date.of.Birth']\n",
        "data = data.drop( ['DisbursalDate', 'Date.of.Birth'], axis=1)"
      ]
    },
    {
      "cell_type": "code",
      "execution_count": null,
      "metadata": {
        "id": "--RI-P6956Mn"
      },
      "outputs": [],
      "source": [
        "data_copy = data.copy()"
      ]
    },
    {
      "cell_type": "code",
      "execution_count": null,
      "metadata": {
        "id": "KD_nokCc56Mn",
        "outputId": "2bc300e9-118b-4edd-d5f3-71ede6976f07"
      },
      "outputs": [
        {
          "data": {
            "text/plain": [
              "0    0.782929\n",
              "1    0.217071\n",
              "Name: loan_default, dtype: float64"
            ]
          },
          "execution_count": 44,
          "metadata": {},
          "output_type": "execute_result"
        }
      ],
      "source": [
        "data['loan_default'].value_counts()/data.shape[0]"
      ]
    },
    {
      "cell_type": "code",
      "execution_count": null,
      "metadata": {
        "id": "AyoPOs2556Mn"
      },
      "outputs": [],
      "source": [
        "X = data_copy.drop(['loan_default'], axis=1)\n",
        "y = data_copy['loan_default']"
      ]
    },
    {
      "cell_type": "markdown",
      "metadata": {
        "id": "snrvCmQE56Mo"
      },
      "source": [
        "### Balance Data using SMOTE"
      ]
    },
    {
      "cell_type": "code",
      "execution_count": null,
      "metadata": {
        "id": "4z0We0lV56Mo"
      },
      "outputs": [],
      "source": [
        "smote = SMOTE()"
      ]
    },
    {
      "cell_type": "code",
      "execution_count": null,
      "metadata": {
        "id": "H5viEnDt56Mo"
      },
      "outputs": [],
      "source": [
        "X_tf,y_tf = smote.fit_resample(X,y)"
      ]
    },
    {
      "cell_type": "code",
      "execution_count": null,
      "metadata": {
        "id": "GFP0jVLJ56Mo",
        "outputId": "f6725bd5-8f49-40bf-b2da-e26fe550d732"
      },
      "outputs": [
        {
          "data": {
            "text/plain": [
              "((365086, 33), (365086,))"
            ]
          },
          "execution_count": 48,
          "metadata": {},
          "output_type": "execute_result"
        }
      ],
      "source": [
        "X_tf.shape, y_tf.shape"
      ]
    },
    {
      "cell_type": "markdown",
      "metadata": {
        "id": "2_tZfO4556Mo"
      },
      "source": [
        "## Transforming Data"
      ]
    },
    {
      "cell_type": "code",
      "execution_count": null,
      "metadata": {
        "id": "VYicmPbg56Mo"
      },
      "outputs": [],
      "source": [
        "from sklearn import preprocessing\n",
        "scaler = preprocessing.RobustScaler()\n",
        "X_tf = scaler.fit_transform(X_tf)"
      ]
    },
    {
      "cell_type": "code",
      "execution_count": null,
      "metadata": {
        "id": "ObgWdDnY56Mo"
      },
      "outputs": [],
      "source": [
        "# Split the data into training and testing sets \n",
        "x_train,x_test,y_train,y_test = train_test_split(X_tf,y_tf,test_size=.2, random_state = 3300)"
      ]
    },
    {
      "cell_type": "markdown",
      "metadata": {
        "id": "kcT_XMO356Mo"
      },
      "source": [
        "Lets Start using Logistics Regression "
      ]
    },
    {
      "cell_type": "code",
      "execution_count": null,
      "metadata": {
        "id": "LoAvsNnV56Mo"
      },
      "outputs": [],
      "source": [
        "lr = LogisticRegression(C=1.0,max_iter=2000)"
      ]
    },
    {
      "cell_type": "code",
      "execution_count": null,
      "metadata": {
        "id": "UUSMdvzd56Mp"
      },
      "outputs": [],
      "source": [
        "accuracy = {}\n",
        "roc_r = {}\n",
        "\n",
        "def train_model(model):\n",
        "    # Checking accuracy\n",
        "    model = model.fit(x_train, y_train)\n",
        "    pred = model.predict(x_test)\n",
        "    acc = accuracy_score(y_test, pred)*100\n",
        "    accuracy[model] = acc\n",
        "    print('accuracy_score',acc)\n",
        "    print('precision_score',precision_score(y_test, pred)*100)\n",
        "    print('recall_score',recall_score(y_test, pred)*100)\n",
        "    print('f1_score',f1_score(y_test, pred)*100)\n",
        "    roc_score = roc_auc_score(y_test, pred)*100\n",
        "    roc_r[model] = roc_score\n",
        "    print('roc_auc_score',roc_score)\n",
        "    # confusion matrix\n",
        "    print('confusion_matrix')\n",
        "    print(pd.DataFrame(confusion_matrix(y_test, pred)))\n",
        "    fpr, tpr, threshold = roc_curve(y_test, pred)\n",
        "    roc_auc = auc(fpr, tpr)*100\n",
        "\n",
        "    plt.title('Receiver Operating Characteristic')\n",
        "    plt.plot(fpr, tpr, 'b', label = 'AUC = %0.2f' % roc_auc)\n",
        "    plt.legend(loc = 'lower right')\n",
        "    plt.plot([0, 1], [0, 1],'r--')\n",
        "    plt.xlim([0, 1])\n",
        "    plt.ylim([0, 1])\n",
        "    plt.ylabel('True Positive Rate')\n",
        "    plt.xlabel('False Positive Rate')\n",
        "    plt.show()"
      ]
    },
    {
      "cell_type": "code",
      "execution_count": null,
      "metadata": {
        "id": "rLUNU8kW56Mp",
        "outputId": "68aa5d64-8d99-41a1-b61d-baaefeffc0be"
      },
      "outputs": [
        {
          "name": "stdout",
          "output_type": "stream",
          "text": [
            "accuracy_score 66.90131200525897\n",
            "precision_score 67.80035464085347\n",
            "recall_score 64.0505286283125\n",
            "f1_score 65.87211929507457\n",
            "roc_auc_score 66.89399092126496\n",
            "confusion_matrix\n",
            "       0      1\n",
            "0  25526  11077\n",
            "1  13091  23324\n"
          ]
        },
        {
          "data": {
            "image/png": "[encoded data removed]",
            "text/plain": [
              "<Figure size 432x288 with 1 Axes>"
            ]
          },
          "metadata": {
            "needs_background": "light"
          },
          "output_type": "display_data"
        }
      ],
      "source": [
        "train_model(lr)"
      ]
    },
    {
      "cell_type": "code",
      "execution_count": null,
      "metadata": {
        "id": "ZkU_qQhr56Mp"
      },
      "outputs": [],
      "source": [
        "rfc = RandomForestClassifier(n_estimators=120,criterion='gini',n_jobs=-1)"
      ]
    },
    {
      "cell_type": "code",
      "execution_count": null,
      "metadata": {
        "id": "XS9B0Wnj56Mp",
        "outputId": "51d78590-a8b4-4747-a8c3-e59ddd5d447b"
      },
      "outputs": [
        {
          "name": "stdout",
          "output_type": "stream",
          "text": [
            "accuracy_score 85.10367306691501\n",
            "precision_score 92.49534078807243\n",
            "recall_score 76.32294384182342\n",
            "f1_score 83.63450340791118\n",
            "roc_auc_score 85.08112331560613\n",
            "confusion_matrix\n",
            "       0      1\n",
            "0  34348   2255\n",
            "1   8622  27793\n"
          ]
        },
        {
          "data": {
            "image/png": "[encoded data removed]",
            "text/plain": [
              "<Figure size 432x288 with 1 Axes>"
            ]
          },
          "metadata": {
            "needs_background": "light"
          },
          "output_type": "display_data"
        }
      ],
      "source": [
        "train_model(rfc)"
      ]
    },
    {
      "cell_type": "code",
      "execution_count": null,
      "metadata": {
        "id": "j9z-hjc-56Mp"
      },
      "outputs": [],
      "source": [
        "from xgboost import XGBClassifier\n",
        "xgb = XGBClassifier()"
      ]
    },
    {
      "cell_type": "code",
      "execution_count": null,
      "metadata": {
        "id": "KjJ_p_xB56Mp"
      },
      "outputs": [],
      "source": [
        "train_model(xgb)"
      ]
    },
    {
      "cell_type": "code",
      "execution_count": null,
      "metadata": {
        "id": "hwraAsGz56Mp"
      },
      "outputs": [],
      "source": [
        "#Run this when your free\n",
        "criterion = ['gini','entropy']\n",
        "n_estimators = [100, 200, 300, 500, 1000, 1200]\n",
        "max_depth = [5, 8, 15, 25, 30]\n",
        "min_samples_split = [2, 5, 10, 15, 100]\n",
        "min_samples_leaf = [1, 2, 5, 10] \n",
        "\n",
        "hyperF = dict(criterion = criterion,\n",
        "            n_estimators = n_estimators, max_depth = max_depth,  \n",
        "            min_samples_split = min_samples_split, \n",
        "            min_samples_leaf = min_samples_leaf)\n",
        "\n",
        "gridF = GridSearchCV(rfc, hyperF, cv = 3, verbose = 1, \n",
        "                      n_jobs = -1)\n",
        "bestF = gridF.fit(x_train, y_train)"
      ]
    }
  ],
  "metadata": {
    "kernelspec": {
      "display_name": "Python 3.7 (Intel® oneAPI)",
      "language": "python",
      "name": "c009-intel_distribution_of_python_3_oneapi-beta05-python"
    },
    "language_info": {
      "codemirror_mode": {
        "name": "ipython",
        "version": 3
      },
      "file_extension": ".py",
      "mimetype": "text/x-python",
      "name": "python",
      "nbconvert_exporter": "python",
      "pygments_lexer": "ipython3",
      "version": "3.9.7"
    },
    "nbTranslate": {
      "displayLangs": [
        "*"
      ],
      "hotkey": "alt-t",
      "langInMainMenu": true,
      "sourceLang": "en",
      "targetLang": "fr",
      "useGoogleTranslate": true
    },
    "toc": {
      "base_numbering": 1,
      "nav_menu": {},
      "number_sections": true,
      "sideBar": true,
      "skip_h1_title": false,
      "title_cell": "Table of Contents",
      "title_sidebar": "Contents",
      "toc_cell": false,
      "toc_position": {},
      "toc_section_display": true,
      "toc_window_display": false
    },
    "colab": {
      "provenance": []
    }
  },
  "nbformat": 4,
  "nbformat_minor": 0
}